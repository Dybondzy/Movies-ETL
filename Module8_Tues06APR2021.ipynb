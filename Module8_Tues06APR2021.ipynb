{
 "cells": [
  {
   "cell_type": "code",
   "execution_count": null,
   "metadata": {},
   "outputs": [],
   "source": [
    "# Wrestling with Functions\n",
    "\n",
    "## Instructions\n",
    "\n",
    "* Analyze the code and CSV provided, looking specifically for what needs to still be added to the application.\n",
    "\n",
    "* Using the starter code provided, create a function called `print_percentages` \n",
    "which takes in a parameter called `wrestler_data` and does the following:\n",
    "\n",
    "  * Uses the data stored within `wrestler_data` to calculate the percentage of matches the wrestler won, \n",
    "lost, and drew over the course of a year.\n",
    "\n",
    "  * Prints out the stats for the wrestler to the terminal.\n",
    "\n",
    "## Bonus\n",
    "\n",
    "* Still within the `print_percentages()` function, create a conditional that checks \n",
    "a wrestler's loss percentage and prints either \"Jobber\" to the screen if the number was greater than fifty \n",
    "or \"Superstar\" if the number was less than 50.\n"
   ]
  },
  {
   "cell_type": "code",
   "execution_count": null,
   "metadata": {},
   "outputs": [],
   "source": [
    "import os\n",
    "import csv\n",
    "\n",
    "# Path to collect data from the Resources folder\n",
    "file_dir = 'C://Users/dybon/Module 8/'\n",
    "wrestling_csv = os.path.join(file_dir, 'Resources', 'WWE-Data-2016.csv')\n"
   ]
  },
  {
   "cell_type": "code",
   "execution_count": 15,
   "metadata": {},
   "outputs": [
    {
     "name": "stdout",
     "output_type": "stream",
     "text": [
      "What wrestler do you want to look for? Jack Swagger\n",
      "Stats for Jack Swagger\n",
      "WIN PERCENT: 51.048951048951054\n",
      "LOSS PERCENT: 48.95104895104895\n",
      "DRAW PERCENT: 0.0\n"
     ]
    }
   ],
   "source": [
    "# Define the function and have it accept the 'wrestler_data' as its sole parameter\n",
    "def print_percentages(wrestler_data):\n",
    "    # For readability, it can help to assign your values to variables with descriptive names\n",
    "    name = str(wrestler_data[0])\n",
    "    wins = int(wrestler_data[1])\n",
    "    losses = int(wrestler_data[2])\n",
    "    draws = int(wrestler_data[3])\n",
    "\n",
    "    # Total matches can be found by adding wins, losses, and draws together\n",
    "    total_matches = wins + losses + draws\n",
    "\n",
    "    # Win percent can be found by dividing the the total wins by the total matches and multiplying by 100\n",
    "    win_percent = (wins / total_matches) * 100\n",
    "\n",
    "    # Loss percent can be found by dividing the total losses by the total matches and multiplying by 100\n",
    "    loss_percent = (losses / total_matches) * 100\n",
    "\n",
    "    # Draw percent can be found by dividing the total draws by the total matches and multiplying by 100\n",
    "    draw_percent = (draws / total_matches) * 100\n",
    "\n",
    "    # Print out the wrestler's name and their percentage stats\n",
    "    print(f\"Stats for {name}\")\n",
    "    print(f\"WIN PERCENT: {str(win_percent)}\")\n",
    "    print(f\"LOSS PERCENT: {str(loss_percent)}\")\n",
    "    print(f\"DRAW PERCENT: {str(draw_percent)}\")\n",
    "\n",
    "\n",
    "# Read in the CSV file\n",
    "with open(wrestling_csv, 'r') as csvfile:\n",
    "\n",
    "    # Split the data on commas\n",
    "    csvreader = csv.reader(csvfile, delimiter=',')\n",
    "\n",
    "    header = next(csvreader)\n",
    "\n",
    "    # Prompt the user for what wrestler they would like to search for\n",
    "    name_to_check = input(\"What wrestler do you want to look for? \")\n",
    "\n",
    "    # Loop through the data\n",
    "    for row in csvreader:\n",
    "\n",
    "        # If the wrestler's name in a row is equal to that which the user input, run the 'print_percentages()' function\n",
    "        if name_to_check == row[0]:\n",
    "            print_percentages(row)\n"
   ]
  },
  {
   "cell_type": "code",
   "execution_count": 16,
   "metadata": {},
   "outputs": [
    {
     "name": "stdout",
     "output_type": "stream",
     "text": [
      "Stats for Macey Estrella\n",
      "WIN PERCENT: 9.090909090909092\n",
      "LOSS PERCENT: 90.9090909090909\n",
      "DRAW PERCENT: 0.0\n"
     ]
    }
   ],
   "source": [
    " print_percentages(row)"
   ]
  },
  {
   "cell_type": "code",
   "execution_count": 18,
   "metadata": {},
   "outputs": [
    {
     "ename": "IndexError",
     "evalue": "list index out of range",
     "output_type": "error",
     "traceback": [
      "\u001b[1;31m---------------------------------------------------------------------------\u001b[0m",
      "\u001b[1;31mIndexError\u001b[0m                                Traceback (most recent call last)",
      "\u001b[1;32m<ipython-input-18-dacdedde505d>\u001b[0m in \u001b[0;36m<module>\u001b[1;34m\u001b[0m\n\u001b[0;32m      1\u001b[0m \u001b[1;31m# If the wrestler's name in a row is equal to that which the user input, run the 'print_percentages()' function\u001b[0m\u001b[1;33m\u001b[0m\u001b[1;33m\u001b[0m\u001b[1;33m\u001b[0m\u001b[0m\n\u001b[1;32m----> 2\u001b[1;33m \u001b[1;32mif\u001b[0m \u001b[0mname_to_check\u001b[0m \u001b[1;33m==\u001b[0m \u001b[0mrow\u001b[0m\u001b[1;33m[\u001b[0m\u001b[1;36m14\u001b[0m\u001b[1;33m]\u001b[0m\u001b[1;33m:\u001b[0m\u001b[1;33m\u001b[0m\u001b[1;33m\u001b[0m\u001b[0m\n\u001b[0m\u001b[0;32m      3\u001b[0m     \u001b[0mprint_percentages\u001b[0m\u001b[1;33m(\u001b[0m\u001b[0mrow\u001b[0m\u001b[1;33m)\u001b[0m\u001b[1;33m\u001b[0m\u001b[1;33m\u001b[0m\u001b[0m\n",
      "\u001b[1;31mIndexError\u001b[0m: list index out of range"
     ]
    }
   ],
   "source": [
    "# If the wrestler's name in a row is equal to that which the user input, run the 'print_percentages()' function\n",
    "if name_to_check == row[14]:\n",
    "print_percentages(row)\n"
   ]
  },
  {
   "cell_type": "code",
   "execution_count": null,
   "metadata": {},
   "outputs": [],
   "source": []
  }
 ],
 "metadata": {
  "kernelspec": {
   "display_name": "Python 3",
   "language": "python",
   "name": "python3"
  },
  "language_info": {
   "codemirror_mode": {
    "name": "ipython",
    "version": 3
   },
   "file_extension": ".py",
   "mimetype": "text/x-python",
   "name": "python",
   "nbconvert_exporter": "python",
   "pygments_lexer": "ipython3",
   "version": "3.8.5"
  }
 },
 "nbformat": 4,
 "nbformat_minor": 4
}
